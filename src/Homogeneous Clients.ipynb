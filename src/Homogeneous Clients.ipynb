{
 "cells": [
  {
   "cell_type": "code",
   "execution_count": 1,
   "id": "05d0d9ac-df99-4df9-a152-ee8880d1a37a",
   "metadata": {
    "tags": []
   },
   "outputs": [],
   "source": [
    "import client\n",
    "import server\n",
    "import utils"
   ]
  },
  {
   "cell_type": "code",
   "execution_count": 2,
   "id": "c9dbead6-d971-4f87-92d8-45d22839f3d8",
   "metadata": {
    "tags": []
   },
   "outputs": [
    {
     "data": {
      "text/plain": [
       "<module 'utils' from '/Users/gael/Desktop/het-opl/src/utils.py'>"
      ]
     },
     "execution_count": 2,
     "metadata": {},
     "output_type": "execute_result"
    }
   ],
   "source": [
    "import importlib\n",
    "importlib.reload(client)\n",
    "importlib.reload(server)\n",
    "importlib.reload(utils)"
   ]
  },
  {
   "cell_type": "code",
   "execution_count": 3,
   "id": "3e70eb84-1ef1-4cf1-9350-8976eaa5b27c",
   "metadata": {
    "tags": []
   },
   "outputs": [],
   "source": [
    "import numpy as np\n",
    "import matplotlib.pyplot as plt\n",
    "\n",
    "from vowpalwabbit.sklearn import VW\n",
    "from sklearn.model_selection import train_test_split"
   ]
  },
  {
   "cell_type": "code",
   "execution_count": 4,
   "id": "a536414e-871c-444a-a370-3d4390d7e0cf",
   "metadata": {
    "tags": []
   },
   "outputs": [],
   "source": [
    "np.random.seed(42)"
   ]
  },
  {
   "cell_type": "markdown",
   "id": "afbfacfe-ea33-47f8-8968-d7a57c749722",
   "metadata": {},
   "source": [
    "### Generate data from homogeneous clients"
   ]
  },
  {
   "cell_type": "code",
   "execution_count": 5,
   "id": "4a5231e8-a8c5-4a4a-a9ab-8df7e1d29ff8",
   "metadata": {
    "tags": []
   },
   "outputs": [],
   "source": [
    "def givens_rotation(vec, i, j, theta):\n",
    "    \"\"\"\n",
    "    Apply a Givens rotation to a 1D NumPy array in the plane spanned by two given axes.\n",
    "\n",
    "    Args:\n",
    "    vec (np.array): The input 1D NumPy array.\n",
    "    i (int): The first axis.\n",
    "    j (int): The second axis.\n",
    "    theta (float): The rotation angle in radians.\n",
    "\n",
    "    Returns:\n",
    "    np.array: The resulting 1D NumPy array after applying the Givens rotation.\n",
    "    \"\"\"\n",
    "    if i >= len(vec) or j >= len(vec):\n",
    "        raise ValueError(\"Axes indices must be within the range of the input array.\")\n",
    "\n",
    "    if i == j:\n",
    "        raise ValueError(\"Axes indices must be different.\")\n",
    "\n",
    "    rotated_vec = vec.copy()\n",
    "    cos_theta = np.cos(theta)\n",
    "    sin_theta = np.sin(theta)\n",
    "\n",
    "    rotated_vec[i] = cos_theta * vec[i] - sin_theta * vec[j]\n",
    "    rotated_vec[j] = sin_theta * vec[i] + cos_theta * vec[j]\n",
    "\n",
    "    return rotated_vec\n",
    "\n",
    "def generate_separated_vectors_grid(n, s, k, num_vectors=4):\n",
    "    # Calculate the number of cells along each axis\n",
    "    num_cells = int(np.ceil(2 * s / k))\n",
    "\n",
    "    # Create a list of all cell indices\n",
    "    cell_indices = np.arange(num_cells ** n)\n",
    "    np.random.shuffle(cell_indices)\n",
    "\n",
    "    # Randomly select distinct cells for each of the num_vectors points\n",
    "    selected_cells = cell_indices[:num_vectors]\n",
    "\n",
    "    # Convert cell indices to n-dimensional grid indices\n",
    "    grid_indices = np.array(np.unravel_index(selected_cells, [num_cells] * n)).T\n",
    "\n",
    "    # Calculate the lower bound of each cell\n",
    "    lower_bounds = -s + grid_indices * k\n",
    "\n",
    "    # Sample a point within each of the chosen cells\n",
    "    vectors = lower_bounds + np.random.rand(num_vectors, n) * k\n",
    "\n",
    "    return vectors\n",
    "\n",
    "def generate_observational_data(num_clients, num_actions, num_features, train_sizes, test_sizes=None):\n",
    "    if test_sizes is None:\n",
    "        test_sizes = [10_000] * num_clients\n",
    "\n",
    "#     action_vec = np.random.randn(num_features)\n",
    "#     action_vec /= np.linalg.norm(action_vec)\n",
    "#     # action_vec *= 0.5\n",
    "    \n",
    "#     thetas = [k*np.pi/num_actions for k in range(num_actions)]\n",
    "#     action_params = np.array([givens_rotation(action_vec, 0, 1, theta) for theta in thetas])\n",
    "#     assert action_params.shape == (num_actions, num_features)\n",
    "\n",
    "#     # action_params = np.random.randn(num_features, num_actions)\n",
    "    # action_params /= np.linalg.norm(action_params, axis=0)\n",
    "    # action_params = 0.5 * action_params\n",
    "\n",
    "    action_params = generate_separated_vectors_grid(num_features, 1, np.sqrt(num_features), 4)\n",
    "\n",
    "    for i in range(num_actions):\n",
    "        other_vectors = np.delete(action_params, [i], axis=0)\n",
    "        if not all(np.linalg.norm(action_params[i] - v) > np.sqrt(num_features) for v in other_vectors):\n",
    "            raise ValueError(\"Vectors not sufficiently separated. Try running again.\")\n",
    "\n",
    "    data = {}\n",
    "    aux = {}\n",
    "    for client_id in range(num_clients):\n",
    "        # Generate data\n",
    "        num_samples = train_sizes[client_id] + test_sizes[client_id]\n",
    "        # contexts = np.random.uniform(low=-1, high=1, size=(num_samples, num_features))\n",
    "        contexts = np.random.normal(loc=0, scale=1, size=(num_samples, num_features)) \n",
    "        rewards_vectors = np.zeros((num_samples, num_actions))\n",
    "        for i in range(num_samples):\n",
    "            for a in range(num_actions):\n",
    "                rewards_vectors[i, a] += np.dot(contexts[i], action_params[a])\n",
    "                if contexts[i][0] > 0.25:\n",
    "                    rewards_vectors[i, a] += -np.max([np.dot(contexts[i], action_params[aprime]) for aprime in range(num_actions)]) \n",
    "                # rewards_vectors[i, a] = np.clip(1 / np.linalg.norm(contexts[i] - action_params[a]), a_min=0, a_max=10)\n",
    "                # rewards_vectors[i, a] = np.exp(1-1/np.linalg.norm(contexts[i]-action_params[a]))\n",
    "                # rewards_vectors[i, a] = 1 - np.exp(-1/np.linalg.norm(contexts[i]-action_params[a]))\n",
    "        # actions = np.random.choice(num_actions, p=[0.7, 0.1, 0.1, 0.1], size=num_samples)\n",
    "        actions = np.random.choice(num_actions, size=num_samples)\n",
    "        epsilons = np.random.normal(loc=0, scale=1, size=(num_samples, num_actions))\n",
    "        noisy_rewards_vectors = rewards_vectors + epsilons\n",
    "        noisy_rewards = noisy_rewards_vectors[np.arange(num_samples), actions]\n",
    "        \n",
    "        # Get train-test split\n",
    "        (X_train, X_test,\n",
    "         A_train, A_test,\n",
    "         Y_train, Y_test,\n",
    "         true_costs_train, true_costs_test) = train_test_split(contexts, actions, noisy_rewards, -rewards_vectors,\n",
    "                                                               train_size=train_sizes[client_id],\n",
    "                                                               shuffle=False)\n",
    "\n",
    "        # Compute AIPW scores\n",
    "        crossfit_map, mu, e = utils.cross_fit_nuisance_params(X_train, A_train, Y_train, num_actions)\n",
    "        AIPW_vectors = utils.compute_AIPW_scores(X_train, A_train, Y_train, num_actions, crossfit_map, mu, e)\n",
    "\n",
    "        # Convert data to VW format\n",
    "        vw_data = utils.to_vw_format(X_train, A_train, -AIPW_vectors)\n",
    "\n",
    "        data[client_id] = vw_data\n",
    "        aux[client_id] = {\"X_train\": X_train, \"X_test\": X_test,\n",
    "                          \"A_train\": A_train, \"A_test\": A_test,\n",
    "                          \"Y_train\": Y_train, \"Y_test\": Y_test,\n",
    "                          \"true_costs_train\": true_costs_train, \"true_costs_test\": true_costs_test}\n",
    "    \n",
    "    return data, aux"
   ]
  },
  {
   "cell_type": "code",
   "execution_count": 7,
   "id": "30804b15-d9f0-4913-a8e1-3c288b3f2879",
   "metadata": {
    "tags": []
   },
   "outputs": [],
   "source": [
    "# Federated config\n",
    "NUM_ROUNDS = 3\n",
    "NUM_CLIENTS = 4\n",
    "NUM_ACTIONS = 4\n",
    "NUM_FEATURES = 10\n",
    "TRAIN_SIZES = np.array([1, 1, 1, 1]) * 250_000\n",
    "CLIENT_WEIGHTS = TRAIN_SIZES / np.sum(TRAIN_SIZES)\n",
    "\n",
    "# Generate data\n",
    "data, aux = generate_observational_data(num_clients=NUM_CLIENTS,\n",
    "                                        num_actions=NUM_ACTIONS,\n",
    "                                        num_features=NUM_FEATURES,\n",
    "                                        train_sizes=TRAIN_SIZES)"
   ]
  },
  {
   "cell_type": "markdown",
   "id": "ead70fa5-4ccb-4180-855e-02c74509adb9",
   "metadata": {},
   "source": [
    "### Train optimal model"
   ]
  },
  {
   "cell_type": "code",
   "execution_count": 8,
   "id": "115935e2-8ff4-447f-b26c-875e8a850585",
   "metadata": {
    "tags": []
   },
   "outputs": [
    {
     "name": "stdout",
     "output_type": "stream",
     "text": [
      "Aggregate: opt_reward=1.5932096211673565, reward=1.592909293500213, regret=0.0003003276671429263\n"
     ]
    }
   ],
   "source": [
    "# Aggregate all data\n",
    "X_train = []\n",
    "A_train = []\n",
    "Y_train = []\n",
    "true_costs_train = []\n",
    "true_costs_test = []\n",
    "X_test = []\n",
    "for client_id in range(NUM_CLIENTS):\n",
    "    X_train.extend(aux[client_id][\"X_train\"])\n",
    "    A_train.extend(aux[client_id][\"A_train\"])\n",
    "    Y_train.extend(aux[client_id][\"Y_train\"])\n",
    "    true_costs_train.extend(aux[client_id][\"true_costs_train\"])\n",
    "    true_costs_test.extend(aux[client_id][\"true_costs_test\"])\n",
    "    X_test.extend(aux[client_id][\"X_test\"])\n",
    "X_train = np.array(X_train)\n",
    "A_train = np.array(A_train)\n",
    "Y_train = np.array(Y_train)\n",
    "true_costs_train = np.array(true_costs_train)\n",
    "true_costs_test = np.array(true_costs_test)\n",
    "X_test = np.array(X_test)\n",
    "\n",
    "# Compute AIPW scores\n",
    "crossfit_map, mu, e = utils.cross_fit_nuisance_params(X_train, A_train, Y_train, NUM_ACTIONS)\n",
    "noisy_costs_train = -utils.compute_AIPW_scores(X_train, A_train, Y_train, NUM_ACTIONS, crossfit_map, mu, e)\n",
    "data_train = utils.to_vw_format(X_train, A_train, noisy_costs_train)\n",
    "\n",
    "# Train model\n",
    "opt_model = VW(csoaa=NUM_ACTIONS,\n",
    "               convert_to_vw=False,\n",
    "               convert_labels=False,\n",
    "               passes=1)\n",
    "opt_model.fit(data_train)\n",
    "\n",
    "# Evaluate on test data\n",
    "X_test_vw = utils.to_vw_format(X_test)\n",
    "regret, opt_reward, reward = utils.compute_regret(X_test_vw, opt_model, true_costs_test)\n",
    "# y_pred = model.predict(X_test_vw)\n",
    "# print(y_pred[-100:])\n",
    "# print(model.get_coefs())\n",
    "print(f\"Aggregate: opt_reward={opt_reward}, reward={reward}, regret={regret}\")"
   ]
  },
  {
   "cell_type": "markdown",
   "id": "fdfc730d-c2da-4338-8b23-776ff446db01",
   "metadata": {},
   "source": [
    "### Train local model"
   ]
  },
  {
   "cell_type": "code",
   "execution_count": 38,
   "id": "013b9541-ced0-4dd8-9105-0baa49a72584",
   "metadata": {
    "tags": []
   },
   "outputs": [],
   "source": [
    "# # Set sample size\n",
    "# sample_size = 1000\n",
    "\n",
    "def train_local_policy(client_id, sample_size):\n",
    "    # Train on local data\n",
    "    # client_id = 0\n",
    "    model = VW(csoaa=NUM_ACTIONS,\n",
    "               convert_to_vw=False,\n",
    "               convert_labels=False,\n",
    "               passes=10)\n",
    "    model.fit(data[client_id][:sample_size])\n",
    "\n",
    "    return model\n",
    "\n",
    "def eval_local_policy(model, client_id=0):\n",
    "    # Evaluate on test data\n",
    "    X_test_vw = utils.to_vw_format(aux[client_id][\"X_test\"])\n",
    "    local_regret, opt_reward, reward = utils.compute_regret(X_test_vw, model, aux[client_id][\"true_costs_test\"], opt_model)\n",
    "    # print(f\"Local Client {client_id}: opt_reward={opt_reward}, reward={reward}, regret={regret}\")\n",
    "    # return regret, opt_reward, reward\n",
    "\n",
    "# def eval_random_policy(client_id=0):\n",
    "    class Model():\n",
    "        def predict(self, X):\n",
    "            return np.random.choice(NUM_ACTIONS, size=len(X_test_vw))\n",
    "        \n",
    "    # print(len(X_test_vw))\n",
    "    \n",
    "    random_regret, opt_reward, reward = utils.compute_regret(X_test_vw, Model(), aux[client_id][\"true_costs_test\"], opt_model)\n",
    "    # print(f\"Random Local Client {client_id}: opt_reward={opt_reward}, reward={reward}, regret={regret}\")\n",
    "    return local_regret, random_regret"
   ]
  },
  {
   "cell_type": "code",
   "execution_count": 51,
   "id": "3c1dc831-e7bf-4fd0-9248-c77ebc47a4ef",
   "metadata": {
    "tags": []
   },
   "outputs": [],
   "source": [
    "def run_local_training_experiments(client_id=0, num_iters=3):\n",
    "    lo = 100\n",
    "    hi = 10_000\n",
    "    delta = 100\n",
    "    local_regrets = []\n",
    "    random_regrets = []\n",
    "    for sample_size in range(lo, hi+1, delta):\n",
    "        local_regret = 0\n",
    "        random_regret = 0\n",
    "        for i in range(num_iters):\n",
    "            local_model = train_local_policy(client_id, sample_size)\n",
    "            lr, rr = eval_local_policy(local_model)\n",
    "            local_regret += lr\n",
    "            random_regret += rr\n",
    "        local_regrets.append(local_regret/num_iters)\n",
    "        random_regrets.append(random_regret/num_iters)\n",
    "        \n",
    "    return local_regrets, random_regrets"
   ]
  },
  {
   "cell_type": "code",
   "execution_count": 52,
   "id": "209b3430-338d-498f-8de5-53ef86238f6a",
   "metadata": {
    "tags": []
   },
   "outputs": [],
   "source": [
    "local_regrets, random_regrets = run_local_training_experiments()"
   ]
  },
  {
   "cell_type": "code",
   "execution_count": 53,
   "id": "8ce33d90-a09a-41e5-8606-33be46f6debb",
   "metadata": {
    "tags": []
   },
   "outputs": [
    {
     "data": {
      "text/plain": [
       "[<matplotlib.lines.Line2D at 0x1a97a09d0>]"
      ]
     },
     "execution_count": 53,
     "metadata": {},
     "output_type": "execute_result"
    },
    {
     "data": {
      "image/png": "[encoded data removed]",
      "text/plain": [
       "<Figure size 640x480 with 1 Axes>"
      ]
     },
     "metadata": {},
     "output_type": "display_data"
    }
   ],
   "source": [
    "x = 100 * (np.arange(len(local_regrets)) + 1)\n",
    "plt.plot(x, local_regrets)"
   ]
  },
  {
   "cell_type": "markdown",
   "id": "593d6f30-ed82-4325-b787-944e9f3f245c",
   "metadata": {},
   "source": [
    "### Train federated model"
   ]
  },
  {
   "cell_type": "code",
   "execution_count": null,
   "id": "18d090fd-e193-4943-b689-3a13e9ee9514",
   "metadata": {
    "tags": []
   },
   "outputs": [],
   "source": [
    "# Set sample size\n",
    "sample_sizes = [1000] * NUM_CLIENTS\n",
    "# sample_sizes[0] = 100\n",
    "\n",
    "# Subsample data\n",
    "data_mod = {}\n",
    "aux_mod = {}\n",
    "for client_id in range(NUM_CLIENTS):\n",
    "    sample_size = sample_sizes[client_id]\n",
    "    data_mod[client_id] = data[client_id][:sample_size]\n",
    "    aux_mod[client_id] = {\"X_test\": aux[client_id][\"X_test\"][:sample_size],\n",
    "                          \"true_costs_test\": aux[client_id][\"true_costs_test\"][:sample_size]}\n",
    "\n",
    "# Run federated learning\n",
    "global_vw = server.run_federated_learning(data_mod, aux_mod, opt_model,\n",
    "                                          num_features=NUM_FEATURES,\n",
    "                                          num_classes=NUM_ACTIONS,\n",
    "                                          num_rounds=NUM_ROUNDS,\n",
    "                                          num_clients=NUM_CLIENTS,\n",
    "                                          client_weights=CLIENT_WEIGHTS)"
   ]
  },
  {
   "cell_type": "code",
   "execution_count": null,
   "id": "b318df74-c755-4a54-8dde-9ce2bd20513a",
   "metadata": {},
   "outputs": [],
   "source": []
  }
 ],
 "metadata": {
  "kernelspec": {
   "display_name": "Python 3 (ipykernel)",
   "language": "python",
   "name": "python3"
  },
  "language_info": {
   "codemirror_mode": {
    "name": "ipython",
    "version": 3
   },
   "file_extension": ".py",
   "mimetype": "text/x-python",
   "name": "python",
   "nbconvert_exporter": "python",
   "pygments_lexer": "ipython3",
   "version": "3.9.16"
  }
 },
 "nbformat": 4,
 "nbformat_minor": 5
}
